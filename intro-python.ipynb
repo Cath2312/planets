{
  "cells": [
    {
      "cell_type": "markdown",
      "metadata": {
        "id": "view-in-github",
        "colab_type": "text"
      },
      "source": [
        "<a href=\"https://colab.research.google.com/github/Cath2312/planets/blob/main/intro-python.ipynb\" target=\"_parent\"><img src=\"https://colab.research.google.com/assets/colab-badge.svg\" alt=\"Open In Colab\"/></a>"
      ]
    },
    {
      "cell_type": "markdown",
      "metadata": {
        "id": "MEHCooPvaZOZ"
      },
      "source": [
        "<a href=\"https://colab.research.google.com/github/mcd-unison/material-programacion/blob/main/intro-python.ipynb\" target=\"_parent\"><img src=\"https://colab.research.google.com/assets/colab-badge.svg\" alt=\"Open In Colab\"/></a>"
      ]
    },
    {
      "cell_type": "markdown",
      "metadata": {
        "id": "lOLevohWaZOq"
      },
      "source": [
        "<center>\n",
        "<p><img src=\"https://mcd.unison.mx/wp-content/themes/awaken/img/logo_mcd.png\" width=\"100\">\n",
        "</p>\n",
        "\n",
        "\n",
        "\n",
        "# Curso Propedéutico en *Programación*\n",
        "\n",
        "## Introducción a `python` resolviendo preguntas\n",
        "\n",
        "\n",
        "**Julio Waissman Vilanova**\n",
        "\n"
      ]
    },
    {
      "cell_type": "markdown",
      "metadata": {
        "id": "3LDOyTRGaZOu"
      },
      "source": [
        "### Tipos\n",
        "\n",
        "¿Cuales son los tipos de datos básicos? Revisa los tipos siguientes:\n",
        "\n",
        "1. Tipos numéricos `int`, `float`, `complex`\n",
        "2. Cadenas de caracteres\n",
        "3. Tuplas\n",
        "4. Listas\n",
        "5. Diccionarios\n",
        "6. Conjuntos\n",
        "\n",
        "Da ejemplo de sobrecarga de operadores (en particular `+` y `*`)\n",
        "\n"
      ]
    },
    {
      "cell_type": "code",
      "source": [
        "PyMem_Free()"
      ],
      "metadata": {
        "colab": {
          "base_uri": "https://localhost:8080/",
          "height": 141
        },
        "id": "UScE7lLbnYZE",
        "outputId": "002404f0-ac44-4828-8ea4-9160abe97f55"
      },
      "execution_count": 92,
      "outputs": [
        {
          "output_type": "error",
          "ename": "NameError",
          "evalue": "name 'PyMem_Free' is not defined",
          "traceback": [
            "\u001b[0;31m---------------------------------------------------------------------------\u001b[0m",
            "\u001b[0;31mNameError\u001b[0m                                 Traceback (most recent call last)",
            "\u001b[0;32m<ipython-input-92-a0b154dd092e>\u001b[0m in \u001b[0;36m<cell line: 1>\u001b[0;34m()\u001b[0m\n\u001b[0;32m----> 1\u001b[0;31m \u001b[0mPyMem_Free\u001b[0m\u001b[0;34m(\u001b[0m\u001b[0;34m)\u001b[0m\u001b[0;34m\u001b[0m\u001b[0;34m\u001b[0m\u001b[0m\n\u001b[0m",
            "\u001b[0;31mNameError\u001b[0m: name 'PyMem_Free' is not defined"
          ]
        }
      ]
    },
    {
      "cell_type": "code",
      "execution_count": 84,
      "metadata": {
        "id": "YHC7Bbn8aZOw"
      },
      "outputs": [],
      "source": [
        "a = \"Hola\"\n",
        "b = \"Toto\"\n",
        "c = 2\n",
        "d = 3\n"
      ]
    },
    {
      "cell_type": "code",
      "source": [
        "a.center(30)"
      ],
      "metadata": {
        "colab": {
          "base_uri": "https://localhost:8080/",
          "height": 35
        },
        "id": "AipcUt3Zboeb",
        "outputId": "da2bbc16-1529-474d-dba2-1063330bfacb"
      },
      "execution_count": 85,
      "outputs": [
        {
          "output_type": "execute_result",
          "data": {
            "text/plain": [
              "'             Hola             '"
            ],
            "application/vnd.google.colaboratory.intrinsic+json": {
              "type": "string"
            }
          },
          "metadata": {},
          "execution_count": 85
        }
      ]
    },
    {
      "cell_type": "code",
      "source": [
        "a.__add__(b)"
      ],
      "metadata": {
        "colab": {
          "base_uri": "https://localhost:8080/",
          "height": 35
        },
        "id": "moz4tDjPbsUo",
        "outputId": "7e8915d8-70c9-40cc-e355-8cbc0a611c6a"
      },
      "execution_count": 86,
      "outputs": [
        {
          "output_type": "execute_result",
          "data": {
            "text/plain": [
              "'HolaToto'"
            ],
            "application/vnd.google.colaboratory.intrinsic+json": {
              "type": "string"
            }
          },
          "metadata": {},
          "execution_count": 86
        }
      ]
    },
    {
      "cell_type": "code",
      "source": [
        "c.__mul__(d)"
      ],
      "metadata": {
        "colab": {
          "base_uri": "https://localhost:8080/"
        },
        "id": "8dYec9WbbzD6",
        "outputId": "e0178bcf-2b79-4f25-e8fb-dad83c52830e"
      },
      "execution_count": 87,
      "outputs": [
        {
          "output_type": "execute_result",
          "data": {
            "text/plain": [
              "6"
            ]
          },
          "metadata": {},
          "execution_count": 87
        }
      ]
    },
    {
      "cell_type": "markdown",
      "metadata": {
        "id": "SSsmQ62zaZO3"
      },
      "source": [
        "¿Que significa que unos tipos sean *mutables* y otros *inmutables*?\n",
        "\n",
        "Realiza un pequeño programa donde quede claro lo que significa que un tipo de datos sea mutable, e ilustra el uso del método `copy.deepcopy()`."
      ]
    },
    {
      "cell_type": "code",
      "execution_count": 93,
      "metadata": {
        "id": "fwU6clDUaZO5"
      },
      "outputs": [],
      "source": [
        "coleccion = ['a', 'b', 'c', 0, 1, 2, 3,'d']\n"
      ]
    },
    {
      "cell_type": "code",
      "source": [
        "coleccion"
      ],
      "metadata": {
        "colab": {
          "base_uri": "https://localhost:8080/"
        },
        "id": "-w0arUVshXTF",
        "outputId": "51d682c9-67dd-414a-bedd-4f2a9af9c2f2"
      },
      "execution_count": 94,
      "outputs": [
        {
          "output_type": "execute_result",
          "data": {
            "text/plain": [
              "['a', 'b', 'c', 0, 1, 2, 3, 'd']"
            ]
          },
          "metadata": {},
          "execution_count": 94
        }
      ]
    },
    {
      "cell_type": "code",
      "source": [
        "import copy\n",
        "def pone(coleccion, valor):\n",
        "  coleccionb = copy.deepcopy(coleccion)\n",
        "  coleccionb.append(valor)\n",
        "  return coleccionb"
      ],
      "metadata": {
        "id": "mHMnuKTpke8o"
      },
      "execution_count": 95,
      "outputs": []
    },
    {
      "cell_type": "code",
      "source": [
        "col = pone(coleccion, 'titi')\n",
        "print(coleccion)\n",
        "print(coleccionb)"
      ],
      "metadata": {
        "colab": {
          "base_uri": "https://localhost:8080/"
        },
        "id": "mpNtTrPgiYhD",
        "outputId": "abbfc4e0-3075-474e-d586-6a7a20dcfedf"
      },
      "execution_count": 96,
      "outputs": [
        {
          "output_type": "stream",
          "name": "stdout",
          "text": [
            "['a', 'b', 'c', 0, 1, 2, 3, 'd']\n",
            "['a', 'b', 'c', 0, 1, 2, 3, 'd', 'titi']\n"
          ]
        }
      ]
    },
    {
      "cell_type": "markdown",
      "metadata": {
        "id": "H7mn9sy-aZO6"
      },
      "source": [
        "### *Comprehension* de listas, conjuntos y diccionarios\n",
        "\n",
        "Escribe, en una sola linea, una expresión que genere una lista con la raiz cuadrada de todos los números enteros que se encuentran entre $1$ y $n$\n",
        "que sean divisibles por $3$ y $7$ y que el dígito menos significativo del número sea $6$."
      ]
    },
    {
      "cell_type": "code",
      "execution_count": 107,
      "metadata": {
        "colab": {
          "base_uri": "https://localhost:8080/"
        },
        "id": "ztJKxruraZPD",
        "outputId": "d1d26141-af4e-4274-cc41-69fcc7203412"
      },
      "outputs": [
        {
          "output_type": "stream",
          "name": "stdout",
          "text": [
            "[11.224972160321824, 18.33030277982336, 23.366642891095847, 27.49545416973504, 31.080540535840107, 34.292856398964496, 37.22902093797257, 39.949968710876355, 42.49705872175156, 44.8998886412873, 47.18050444834179, 49.35585071701227, 51.43928459844674, 53.44155686354955, 55.37147279962851, 57.23635208501674, 59.04235767650204, 60.794736614282655, 62.49799996799898, 64.15605972938177, 65.7723346096214, 67.34983296193094, 68.89121859859934, 70.39886362719217, 71.87489130426563, 73.32121111929344, 74.73954776421918, 76.13146524269712, 77.49838707999025, 78.8416133777081, 80.16233529532433, 81.4616474176652, 82.74055837375042, 84.0, 85.24083528450434, 86.46386528486914, 87.66983517721475, 88.85943956609225, 90.033327162779, 91.19210492142398, 92.33634170791044, 93.46657156438339, 94.58329662260668, 95.68698971124549, 96.77809669548166, 97.85703858180054, 98.92421341612983, 99.9799979995999]\n"
          ]
        }
      ],
      "source": [
        "n = 10_000\n",
        "\n",
        "l1= [n**(1/2) for n in range(1, n+1) if n % 3 == 0 and n % 7 == 0 and n % 10 == 6]\n",
        "print(l1)\n"
      ]
    },
    {
      "cell_type": "code",
      "source": [
        "l2= {n: n**(1/2) for n in range(1, n+1) if n % 3 == 0 and n % 7 == 0 and n % 10 == 6}\n",
        "print(l2)"
      ],
      "metadata": {
        "colab": {
          "base_uri": "https://localhost:8080/"
        },
        "id": "9QhWYtxap5xY",
        "outputId": "7f98d434-244b-47a1-8c67-b58dd069707b"
      },
      "execution_count": 109,
      "outputs": [
        {
          "output_type": "stream",
          "name": "stdout",
          "text": [
            "{126: 11.224972160321824, 336: 18.33030277982336, 546: 23.366642891095847, 756: 27.49545416973504, 966: 31.080540535840107, 1176: 34.292856398964496, 1386: 37.22902093797257, 1596: 39.949968710876355, 1806: 42.49705872175156, 2016: 44.8998886412873, 2226: 47.18050444834179, 2436: 49.35585071701227, 2646: 51.43928459844674, 2856: 53.44155686354955, 3066: 55.37147279962851, 3276: 57.23635208501674, 3486: 59.04235767650204, 3696: 60.794736614282655, 3906: 62.49799996799898, 4116: 64.15605972938177, 4326: 65.7723346096214, 4536: 67.34983296193094, 4746: 68.89121859859934, 4956: 70.39886362719217, 5166: 71.87489130426563, 5376: 73.32121111929344, 5586: 74.73954776421918, 5796: 76.13146524269712, 6006: 77.49838707999025, 6216: 78.8416133777081, 6426: 80.16233529532433, 6636: 81.4616474176652, 6846: 82.74055837375042, 7056: 84.0, 7266: 85.24083528450434, 7476: 86.46386528486914, 7686: 87.66983517721475, 7896: 88.85943956609225, 8106: 90.033327162779, 8316: 91.19210492142398, 8526: 92.33634170791044, 8736: 93.46657156438339, 8946: 94.58329662260668, 9156: 95.68698971124549, 9366: 96.77809669548166, 9576: 97.85703858180054, 9786: 98.92421341612983, 9996: 99.9799979995999}\n"
          ]
        }
      ]
    },
    {
      "cell_type": "markdown",
      "metadata": {
        "id": "xZn3jugHaZPI"
      },
      "source": [
        "### Funciones\n",
        "\n",
        "Escribe una función que:\n",
        "\n",
        "1. reciba una lista de elementos (letras, números, lo que sea),\n",
        "2. cuente la ocurrencia de cada elemento en la lista,\n",
        "3. devuelva las ocurrencias en forma de diccionario,\n",
        "4. si imprime es True, imprima un histograma de ocurrencias, por ejemplo:\n",
        "\n",
        "```python\n",
        "\n",
        "lista = [1,'a',1, 13, 'hola', 'a', 1, 1, 'a', 1]\n",
        "\n",
        "d = funcion_ejemplo(lista, imprime = True)\n",
        "\n",
        "1    \t\t***** \t(5 -> 50%)\n",
        "'a'  \t\t***   \t(3 -> 30%)\n",
        "13\t\t*\t(1 -> 10%)\n",
        "'hola'\t\t*\t(1 -> 10%)\n",
        "\n",
        "```"
      ]
    },
    {
      "cell_type": "code",
      "source": [
        "def funcion(e, imprime = True):\n",
        "  ocurre = {n: e.count(n) for n in set(e)}\n",
        "  total = len(e)\n",
        "  espacio = \"|||\"\n",
        "  if imprime:\n",
        "        for n, conteo in ocurre.items():\n",
        "          porcentaje = (conteo / total) * 100\n",
        "          print(f\"{n:<8} {'*' * conteo:<8}({conteo} -> {porcentaje:.0f}%)\")\n",
        "  return ocurre\n"
      ],
      "metadata": {
        "id": "LyyMONYOrNCU"
      },
      "execution_count": 160,
      "outputs": []
    },
    {
      "cell_type": "code",
      "execution_count": 161,
      "metadata": {
        "colab": {
          "base_uri": "https://localhost:8080/"
        },
        "id": "GzsszaiYaZPL",
        "outputId": "7f10560d-d8b3-4742-edf9-8fd611f7104e"
      },
      "outputs": [
        {
          "output_type": "stream",
          "name": "stdout",
          "text": [
            "1        *****   (5 -> 50%)\n",
            "a        ***     (3 -> 30%)\n",
            "hola     *       (1 -> 10%)\n",
            "13       *       (1 -> 10%)\n",
            "{1: 5, 'a': 3, 'hola': 1, 13: 1}\n"
          ]
        }
      ],
      "source": [
        "e = [1,'a',1, 13, 'hola', 'a', 1, 1, 'a', 1]\n",
        "d = funcion(e, imprime = True)\n",
        "print(d)"
      ]
    },
    {
      "cell_type": "markdown",
      "metadata": {
        "id": "Fz0Y7F3BaZPM"
      },
      "source": [
        "Escribe una función que modifique un diccionario y regrese el diccionario modificado y una copia del original, donde cada entrada\n",
        "del diccionario sea una lista de valores. Ten en cuenta que si una entrada del diccionario es de tipo mutable, al modificarlo en la\n",
        "copia se modifica el original. Utiliza el modulo `copy` para evitar este problema. Ejemplo de la función:\n",
        "\n",
        "```python\n",
        "dic1 = {'Pepe':[12, 'enero', 1980], 'Carolina':[15,'mayo',1975],'Paco':[10,'nov',1970]}\n",
        "dic2 = fundicos(dic1, 'Pepe', 1, 'febrero')\n",
        "\n",
        "print(dic1)\n",
        "{'Pepe':[12, 'enero', 1980], 'Carolina':[15,'mayo',1975],'Paco':[10,'nov',1970]}\n",
        "\n",
        "print(dic2)\n",
        "{'Pepe':[12, 'febrero', 1980], 'Carolina':[15,'mayo',1975],'Paco':[10,'nov',1970]}\n",
        "```"
      ]
    },
    {
      "cell_type": "code",
      "execution_count": 162,
      "metadata": {
        "id": "7qibSI7BaZPN"
      },
      "outputs": [],
      "source": [
        "import copy\n",
        "def fundicos(dic, clave, posicion, nuevo_valor):\n",
        "    dic_copia = copy.deepcopy(dic)\n",
        "    if clave in dic_copia:\n",
        "        dic_copia[clave][posicion] = nuevo_valor\n",
        "    return dic_copia"
      ]
    },
    {
      "cell_type": "code",
      "execution_count": 166,
      "metadata": {
        "colab": {
          "base_uri": "https://localhost:8080/"
        },
        "id": "lwSdg9zdaZPO",
        "outputId": "166228db-72c0-4369-f996-e342873050bc"
      },
      "outputs": [
        {
          "output_type": "stream",
          "name": "stdout",
          "text": [
            "{'Pepe': [12, 'enero', 1980], 'Carolina': [15, 'mayo', 1975], 'Paco': [10, 'nov', 1970]}\n",
            "{'Pepe': [12, 'febrero', 1980], 'Carolina': [15, 'mayo', 1975], 'Paco': [10, 'nov', 1970]}\n"
          ]
        }
      ],
      "source": [
        "dic1 = {'Pepe':[12, 'enero', 1980], 'Carolina':[15,'mayo',1975],'Paco':[10,'nov',1970]}\n",
        "dic2 = fundicos(dic1, 'Pepe', 1, 'febrero')\n",
        "\n",
        "print(dic1)\n",
        "print(dic2)"
      ]
    },
    {
      "cell_type": "markdown",
      "metadata": {
        "id": "TPsev48paZPP"
      },
      "source": [
        "### Generadores\n",
        "\n",
        "Escribe un generador que reciba una lista y genere todas las permutaciones que se puedan hacer con los elementos de la lista"
      ]
    },
    {
      "cell_type": "code",
      "execution_count": 167,
      "metadata": {
        "id": "1_P6LkhhaZPQ"
      },
      "outputs": [],
      "source": [
        "import itertools\n",
        "\n",
        "def permutaciones(lista):\n",
        "    \"\"\"\n",
        "    Permutaciones de los elementos de una lista.\n",
        "\n",
        "    Devuelve un generador con todas las permutaciones posibles de los elementos de la lista de entrada.\n",
        "    \"\"\"\n",
        "    return itertools.permutations(lista)\n"
      ]
    },
    {
      "cell_type": "code",
      "execution_count": 168,
      "metadata": {
        "colab": {
          "base_uri": "https://localhost:8080/"
        },
        "id": "gfUCc2qYaZPR",
        "outputId": "dc19aa64-5516-4c9c-ff11-259e990ea045"
      },
      "outputs": [
        {
          "output_type": "stream",
          "name": "stdout",
          "text": [
            "('a', 'b', 'c', 'd')\n",
            "('a', 'b', 'd', 'c')\n",
            "('a', 'c', 'b', 'd')\n",
            "('a', 'c', 'd', 'b')\n",
            "('a', 'd', 'b', 'c')\n",
            "('a', 'd', 'c', 'b')\n",
            "('b', 'a', 'c', 'd')\n",
            "('b', 'a', 'd', 'c')\n",
            "('b', 'c', 'a', 'd')\n",
            "('b', 'c', 'd', 'a')\n",
            "('b', 'd', 'a', 'c')\n",
            "('b', 'd', 'c', 'a')\n",
            "('c', 'a', 'b', 'd')\n",
            "('c', 'a', 'd', 'b')\n",
            "('c', 'b', 'a', 'd')\n",
            "('c', 'b', 'd', 'a')\n",
            "('c', 'd', 'a', 'b')\n",
            "('c', 'd', 'b', 'a')\n",
            "('d', 'a', 'b', 'c')\n",
            "('d', 'a', 'c', 'b')\n",
            "('d', 'b', 'a', 'c')\n",
            "('d', 'b', 'c', 'a')\n",
            "('d', 'c', 'a', 'b')\n",
            "('d', 'c', 'b', 'a')\n"
          ]
        }
      ],
      "source": [
        "for p in permutaciones(['a', 'b', 'c', 'd']):\n",
        "    print(p)"
      ]
    },
    {
      "cell_type": "code",
      "source": [
        "def permutaciones(lista):\n",
        "    \"\"\"\n",
        "    Permutaciones de los elementos de una lista.\n",
        "\n",
        "    Devuelve un generador con todas las permutaciones posibles de los elementos de la lista de entrada.\n",
        "    \"\"\"\n",
        "    if len(lista) == 0:\n",
        "        yield []\n",
        "    elif len(lista) == 1:\n",
        "        yield lista\n",
        "    else:\n",
        "        for i in range(len(lista)):\n",
        "            primerele = lista[i]\n",
        "            restos = lista[:i] + lista[i+1:]\n",
        "            for p in permutaciones(restos):\n",
        "                yield [primerele] + p"
      ],
      "metadata": {
        "id": "aVBohnjO0kwc"
      },
      "execution_count": 169,
      "outputs": []
    },
    {
      "cell_type": "code",
      "source": [
        "for p in permutaciones(['a', 'b', 'c', 'd']):\n",
        "    print(p)"
      ],
      "metadata": {
        "colab": {
          "base_uri": "https://localhost:8080/"
        },
        "id": "uvOcW4NY0pPx",
        "outputId": "31c96d0b-d5c7-4751-9a1e-195ea5b85b06"
      },
      "execution_count": 172,
      "outputs": [
        {
          "output_type": "stream",
          "name": "stdout",
          "text": [
            "['a', 'b', 'c', 'd']\n",
            "['a', 'b', 'd', 'c']\n",
            "['a', 'c', 'b', 'd']\n",
            "['a', 'c', 'd', 'b']\n",
            "['a', 'd', 'b', 'c']\n",
            "['a', 'd', 'c', 'b']\n",
            "['b', 'a', 'c', 'd']\n",
            "['b', 'a', 'd', 'c']\n",
            "['b', 'c', 'a', 'd']\n",
            "['b', 'c', 'd', 'a']\n",
            "['b', 'd', 'a', 'c']\n",
            "['b', 'd', 'c', 'a']\n",
            "['c', 'a', 'b', 'd']\n",
            "['c', 'a', 'd', 'b']\n",
            "['c', 'b', 'a', 'd']\n",
            "['c', 'b', 'd', 'a']\n",
            "['c', 'd', 'a', 'b']\n",
            "['c', 'd', 'b', 'a']\n",
            "['d', 'a', 'b', 'c']\n",
            "['d', 'a', 'c', 'b']\n",
            "['d', 'b', 'a', 'c']\n",
            "['d', 'b', 'c', 'a']\n",
            "['d', 'c', 'a', 'b']\n",
            "['d', 'c', 'b', 'a']\n"
          ]
        }
      ]
    },
    {
      "cell_type": "markdown",
      "metadata": {
        "id": "URtzIDjtaZPS"
      },
      "source": [
        "Ahora escribe una funcion que reciba 4 digitos del 0 al 9, y devuelva una lista con todas las horas váidas que se puedan hacer con estos dígitos en forma de lista de strings con la forma `\"HH:MM\"`."
      ]
    },
    {
      "cell_type": "code",
      "execution_count": 173,
      "metadata": {
        "id": "LKCxX1TQaZPT"
      },
      "outputs": [],
      "source": [
        "def horas_validas(digitos):\n",
        "    horas = []\n",
        "    for h1 in digitos:\n",
        "        for h2 in digitos:\n",
        "            hora = f\"{h1}{h2}\"\n",
        "            if hora < '24':\n",
        "                for m1 in digitos:\n",
        "                    for m2 in digitos:\n",
        "                        minuto = f\"{m1}{m2}\"\n",
        "                        if minuto < '60':\n",
        "                            horas.append(f\"{hora}:{minuto}\")\n",
        "    return horas"
      ]
    },
    {
      "cell_type": "markdown",
      "metadata": {
        "id": "uDInjiVhaZPU"
      },
      "source": [
        "Validando:"
      ]
    },
    {
      "cell_type": "code",
      "execution_count": 174,
      "metadata": {
        "colab": {
          "base_uri": "https://localhost:8080/"
        },
        "id": "kG9lj2eYaZPW",
        "outputId": "30d741db-26c9-4d47-8537-ede9e46d5abe"
      },
      "outputs": [
        {
          "output_type": "stream",
          "name": "stdout",
          "text": [
            "['11:11', '11:12', '11:13', '11:17', '11:21', '11:22', '11:23', '11:27', '11:31', '11:32', '11:33', '11:37', '12:11', '12:12', '12:13', '12:17', '12:21', '12:22', '12:23', '12:27', '12:31', '12:32', '12:33', '12:37', '13:11', '13:12', '13:13', '13:17', '13:21', '13:22', '13:23', '13:27', '13:31', '13:32', '13:33', '13:37', '17:11', '17:12', '17:13', '17:17', '17:21', '17:22', '17:23', '17:27', '17:31', '17:32', '17:33', '17:37', '21:11', '21:12', '21:13', '21:17', '21:21', '21:22', '21:23', '21:27', '21:31', '21:32', '21:33', '21:37', '22:11', '22:12', '22:13', '22:17', '22:21', '22:22', '22:23', '22:27', '22:31', '22:32', '22:33', '22:37', '23:11', '23:12', '23:13', '23:17', '23:21', '23:22', '23:23', '23:27', '23:31', '23:32', '23:33', '23:37']\n"
          ]
        }
      ],
      "source": [
        "print(horas_validas([1,2,3,7]))"
      ]
    },
    {
      "cell_type": "markdown",
      "metadata": {
        "id": "SWprc4OhaZPX"
      },
      "source": [
        "Escribe una función, lo más compacta posible, que escoja entre los 3 patrones ascii a continuación, e imprima en pantalla\n",
        "el deseado, pero de dimensión $n$ ($n \\ge 4$), toma en cuanta que para algunos valores de $n$ habrá\n",
        "algún(os) patrones que no se puedan hacer.\n",
        "\n",
        "```\n",
        "          *             ++++           oooooooo\n",
        "          **            ++++           ooo  ooo\n",
        "          ***           ++++           oo    oo\n",
        "          ****          ++++           o      o\n",
        "          *****             ++++       o      o\n",
        "          ******            ++++       oo    oo\n",
        "          *******           ++++       ooo  ooo\n",
        "          ********          ++++       oooooooo\n",
        "\n",
        "```"
      ]
    },
    {
      "cell_type": "code",
      "execution_count": 191,
      "metadata": {
        "id": "jKs_PNqgaZPX"
      },
      "outputs": [],
      "source": [
        "def imprimir_patron(n):\n",
        "    if n >= 4:\n",
        "        patron = input(\"Elija el patrón (1, 2 o 3): \")\n",
        "        if patron == '1':\n",
        "            for i in range(1, n+1):\n",
        "                print('*' * i)\n",
        "        elif patron == '2':\n",
        "            for i in range(1, n+1):\n",
        "                print('+' * (2*i))\n",
        "        elif patron == '3':\n",
        "            for i in range(1, n+1):\n",
        "                print('o' * (2*n - 2*i))\n",
        "    else:\n",
        "        print(\"La dimensión debe ser mayor o igual a 4.\")"
      ]
    },
    {
      "cell_type": "code",
      "execution_count": 194,
      "metadata": {
        "colab": {
          "base_uri": "https://localhost:8080/"
        },
        "id": "31iYLAzpaZPY",
        "outputId": "c02faced-dccd-46ef-a808-c8e584880142"
      },
      "outputs": [
        {
          "output_type": "stream",
          "name": "stdout",
          "text": [
            "Elija el patrón (1, 2 o 3): 3\n",
            "oooooooooo\n",
            "oooooooo\n",
            "oooooo\n",
            "oooo\n",
            "oo\n",
            "\n"
          ]
        }
      ],
      "source": [
        "imprimir_patron(6)\n"
      ]
    },
    {
      "cell_type": "markdown",
      "metadata": {
        "id": "4ce5fdaQaZPY"
      },
      "source": [
        "### Clases y objetos\n",
        "\n",
        "Diseña una clase Matriz con las siguientes características:\n",
        "\n",
        "1. Como inicialización de un objeto es necesario conocer $n$, $m$ y tipo. En caso de no proporcionar $m$ la matriz se asume cuadrada de $n \\times n$. En caso de no proporcionar $n$ la matriz tendrá una dimensión de $1 \\times 1$.\n",
        "2. De no especificarse todos los elementos se inicializan a 0, a menos que exista un tipo especial ( `unos` o `diag` por el momento).\n",
        "3. Implementa con sobrecarga la suma de matrices, la multiplicación de matrices y la multiplicación por un escalar.\n",
        "4. Implementa como métodos eliminar columna y eliminar fila.   \n",
        "5. Programa la representación visual de la matriz.\n",
        "6. Ten en cuenta tambien el manejo de errores.\n",
        "\n",
        "\n",
        "Ejemplo de uso:\n",
        "\n",
        "```\n",
        ">>> A = Matriz(n=3, m=4)\n",
        "\n",
        ">>> print(A)\n",
        "0 0 0 0\n",
        "0 0 0 0\n",
        "0 0 0 0\n",
        "\n",
        ">>> A = A.quitafila(2)\n",
        "\n",
        ">>> print(A)\n",
        "0 0 0 0\n",
        "0 0 0 0\n",
        "\n",
        ">>> B = Matriz(4,4,'diag')\n",
        "\n",
        ">>> print(B)\n",
        "1 0 0 0\n",
        "0 1 0 0\n",
        "0 0 1 0\n",
        "0 0 0 1\n",
        "\n",
        ">>> C = Matriz(4,1,'unos')\n",
        "\n",
        ">>> print(C)\n",
        "1\n",
        "1\n",
        "1\n",
        "1\n",
        "\n",
        ">>> D = 3 * B * C\n",
        "\n",
        ">>> print(D)\n",
        "3\n",
        "3\n",
        "3\n",
        "3\n",
        "\n",
        ">>> E = 3 * B + C\n",
        "error \"No seas menso, si no son de la misma dimensión las matrices no se pueden sumar\"\n",
        "```"
      ]
    },
    {
      "cell_type": "code",
      "execution_count": 214,
      "metadata": {
        "colab": {
          "base_uri": "https://localhost:8080/",
          "height": 106
        },
        "id": "--bPSyASaZPZ",
        "outputId": "35a7f4b7-93b8-4b32-f5d1-5f93d4dcdb24"
      },
      "outputs": [
        {
          "output_type": "error",
          "ename": "SyntaxError",
          "evalue": "invalid syntax (<ipython-input-214-872c41e5ce8a>, line 76)",
          "traceback": [
            "\u001b[0;36m  File \u001b[0;32m\"<ipython-input-214-872c41e5ce8a>\"\u001b[0;36m, line \u001b[0;32m76\u001b[0m\n\u001b[0;31m    else:\u001b[0m\n\u001b[0m    ^\u001b[0m\n\u001b[0;31mSyntaxError\u001b[0m\u001b[0;31m:\u001b[0m invalid syntax\n"
          ]
        }
      ],
      "source": [
        "class Matriz:\n",
        "    def __init__(self, n=1, m=None, tipo=None):\n",
        "        if m is None:\n",
        "            m = n\n",
        "        self.n = n\n",
        "        self.m = m\n",
        "        self.tipo = tipo\n",
        "        self.matriz = self.inicializar_matriz()\n",
        "\n",
        "    def inicializar_matriz(self):\n",
        "        if self.tipo == 'unos':\n",
        "            return [[1] * self.m for _ in range(self.n)]\n",
        "        elif self.tipo == 'diag':\n",
        "            return [[1 if i == j else 0 for j in range(self.m)] for i in range(self.n)]\n",
        "        else:\n",
        "            return [[0] * self.m for _ in range(self.n)]\n",
        "\n",
        "    def __str__(self):\n",
        "        return '\\n'.join(' '.join(str(elemento) for elemento in fila) for fila in self.matriz)\n",
        "\n",
        "    def eliminar_fila(self, indice):\n",
        "        if 0 <= indice < self.n:\n",
        "            self.matriz.pop(indice)\n",
        "            self.n -= 1\n",
        "            return self\n",
        "        else:\n",
        "            print(\"Error: El índice de fila es inválido.\")\n",
        "            return None\n",
        "\n",
        "    def eliminar_columna(self, indice):\n",
        "        if 0 <= indice < self.m:\n",
        "            for fila in self.matriz:\n",
        "                fila.pop(indice)\n",
        "            self.m -= 1\n",
        "            return self\n",
        "        else:\n",
        "            print(\"Error: El índice de columna es inválido.\")\n",
        "            return None\n",
        "\n",
        "    def __mul__(self, other):\n",
        "        if isinstance(other, int) or isinstance(other, float):\n",
        "            nueva_matriz = [[elemento * other for elemento in fila] for fila in self.matriz]\n",
        "            resultado = Matriz(self.n, self.m)\n",
        "            resultado.matriz = nueva_matriz\n",
        "            return resultado\n",
        "        elif isinstance(other, Matriz):\n",
        "            if self.m != other.n:\n",
        "                print(\"Error: Las dimensiones de las matrices no coinciden para la multiplicación.\")\n",
        "                return None\n",
        "            else:\n",
        "                nueva_matriz = [[sum(a*b for a, b in zip(filaA, columnaB)) for columnaB in zip(*other.matriz)] for filaA in self.matriz]\n",
        "                resultado = Matriz(self.n, other.m)\n",
        "                resultado.matriz = nueva_matriz\n",
        "                return resultado\n",
        "        else:\n",
        "            print(\"Error: No se puede multiplicar la matriz por el tipo de dato proporcionado.\")\n",
        "            return None\n",
        "\n",
        "    def __rmul__(self, other):\n",
        "        return self.__mul__(other)\n",
        "\n",
        "    def __add__(self, other):\n",
        "        if isinstance(other, Matriz) and self.n == other.n and self.m == other.m:\n",
        "            nueva_matriz = [[a + b for a, b in zip(filaA, filaB)] for filaA, filaB in zip(self.matriz, other.matriz)]\n",
        "            resultado = Matriz(self.n, self.m)\n",
        "            resultado.matriz = nueva_matriz\n",
        "            return resultado\n",
        "        else:\n",
        "            print(\"Error: No se pueden sumar matrices de diferentes dimensiones.\")\n",
        "            return None\n"
      ]
    },
    {
      "cell_type": "code",
      "execution_count": 227,
      "metadata": {
        "colab": {
          "base_uri": "https://localhost:8080/"
        },
        "id": "INrsQ61raZPZ",
        "outputId": "6931ffc6-17fa-49e1-b627-3ed8b25728d0"
      },
      "outputs": [
        {
          "output_type": "stream",
          "name": "stdout",
          "text": [
            "A=\n",
            " 0 0 0 0\n",
            "0 0 0 0\n",
            "0 0 0 0\n",
            "\n",
            "A =\n",
            " 0 0 0 0\n",
            "0 0 0 0\n",
            "\n",
            "B =\n",
            " 1 0 0 0\n",
            "0 1 0 0\n",
            "0 0 1 0\n",
            "0 0 0 1\n",
            "\n",
            "C =\n",
            " 1\n",
            "1\n",
            "1\n",
            "1\n",
            "\n",
            "D =\n",
            " 3\n",
            "3\n",
            "3\n",
            "3\n",
            "Error: No se pueden sumar matrices de diferentes dimensiones.\n",
            "\n",
            "E =\n",
            " None\n"
          ]
        }
      ],
      "source": [
        "# Realiza las pruebas a la clase aquí\n",
        "\n",
        "A = Matriz(n=3, m=4)\n",
        "print('A=\\n',A)\n",
        "\n",
        "A = A.eliminar_fila(2)\n",
        "print('\\nA =\\n', A)\n",
        "\n",
        "B = Matriz(4, 4, 'diag')\n",
        "print('\\nB =\\n', B)\n",
        "\n",
        "C = Matriz(4, 1, 'unos')\n",
        "print('\\nC =\\n', C)\n",
        "\n",
        "D = 3 * B * C\n",
        "print('\\nD =\\n', D)\n",
        "\n",
        "E = 3 * B + C\n",
        "print('\\nE =\\n', E)"
      ]
    }
  ],
  "metadata": {
    "kernelspec": {
      "display_name": "ing-caract",
      "language": "python",
      "name": "python3"
    },
    "language_info": {
      "codemirror_mode": {
        "name": "ipython",
        "version": 3
      },
      "file_extension": ".py",
      "mimetype": "text/x-python",
      "name": "python",
      "nbconvert_exporter": "python",
      "pygments_lexer": "ipython3",
      "version": "3.8.13"
    },
    "orig_nbformat": 4,
    "colab": {
      "provenance": [],
      "include_colab_link": true
    }
  },
  "nbformat": 4,
  "nbformat_minor": 0
}